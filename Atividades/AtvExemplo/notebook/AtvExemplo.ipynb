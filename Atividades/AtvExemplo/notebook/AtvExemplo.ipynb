{
 "cells": [
  {
   "cell_type": "markdown",
   "id": "49627361-19ef-46dd-a6fd-02a82d568136",
   "metadata": {},
   "source": [
    "# Atv Exemplo"
   ]
  },
  {
   "cell_type": "markdown",
   "id": "66632e41-7372-4d10-b6fd-b8b3377e561f",
   "metadata": {},
   "source": [
    "## Declaração de variáveis "
   ]
  },
  {
   "cell_type": "code",
   "execution_count": 1,
   "id": "29ddbd27-ca84-4306-8c5e-b8f32c689725",
   "metadata": {},
   "outputs": [],
   "source": [
    "float angulo = 1.57f, temp; \n",
    "double valor = 13.546; \n",
    "boolean ok = false; \n",
    "char letra = 'c';"
   ]
  },
  {
   "cell_type": "markdown",
   "id": "a6c74683-7c25-4403-b831-cc8030f5f208",
   "metadata": {},
   "source": [
    "Saída de dados"
   ]
  },
  {
   "cell_type": "code",
   "execution_count": 2,
   "id": "71e58145-5c6d-4eef-8cc8-f4140378d2e3",
   "metadata": {},
   "outputs": [
    {
     "name": "stdout",
     "output_type": "stream",
     "text": [
      "1.57\n",
      "13.546\n",
      "false\n",
      "c\n"
     ]
    }
   ],
   "source": [
    "System.out.println(angulo); // exibe o conteúdo da variável angulo\n",
    "System.out.println(valor); // exibe o conteúdo da variável valor\n",
    "System.out.println(ok); // exibe o conteúdo da variável ok\n",
    "System.out.println(letra); // exibe o conteúdo da variável letra"
   ]
  },
  {
   "cell_type": "markdown",
   "id": "e9790358-b78e-4798-8c33-55a4e8f97d11",
   "metadata": {},
   "source": [
    "## Entrada e saídas básicas "
   ]
  },
  {
   "cell_type": "markdown",
   "id": "bc5b945e-a132-467d-9120-60c2d22d40c4",
   "metadata": {},
   "source": [
    "Entrada não formatada"
   ]
  },
  {
   "cell_type": "code",
   "execution_count": 3,
   "id": "6a535c42-43ca-4247-9a26-ddfa3390bae9",
   "metadata": {},
   "outputs": [
    {
     "name": "stdout",
     "output_type": "stream",
     "text": [
      "Entrada Não Formatada!\n",
      "Pressione um caractere: "
     ]
    },
    {
     "name": "stdin",
     "output_type": "stream",
     "text": [
      " a\n"
     ]
    },
    {
     "name": "stdout",
     "output_type": "stream",
     "text": [
      "ASCII = 97\n"
     ]
    }
   ],
   "source": [
    "System.out.println(\"Entrada Não Formatada!\"); // Mensagem inicial\n",
    "System.out.print(\"Pressione um caractere: \"); // Mensagem de orientação\n",
    "int i = System.in.read(); //Lê um caractere como inteiro\n",
    "System.out.println(\"ASCII = \" + i); // Exibe valor lido"
   ]
  },
  {
   "cell_type": "markdown",
   "id": "62316748-e744-4567-a937-0bd466f64252",
   "metadata": {},
   "source": [
    "Entrada formatada"
   ]
  },
  {
   "cell_type": "code",
   "execution_count": 4,
   "id": "539a27eb-233b-441b-9df0-80a02c9b2fc0",
   "metadata": {},
   "outputs": [
    {
     "name": "stdout",
     "output_type": "stream",
     "text": [
      "Digite uma palavra: "
     ]
    },
    {
     "name": "stdin",
     "output_type": "stream",
     "text": [
      " POO\n"
     ]
    },
    {
     "name": "stdout",
     "output_type": "stream",
     "text": [
      "Você digitou a palavra: POO\n"
     ]
    }
   ],
   "source": [
    "Scanner s = new Scanner(System.in); // Prepara entrada de dados \n",
    "System.out.print(\"Digite uma palavra: \"); //mensagem p/ orientar usuário \n",
    "String palavra = s.next(); \n",
    "System.out.println(\"Você digitou a palavra: \" + palavra);"
   ]
  },
  {
   "cell_type": "markdown",
   "id": "3a6857ef-fb04-48f5-a9d3-e0fc43d500a3",
   "metadata": {},
   "source": [
    "Saída formatada"
   ]
  },
  {
   "cell_type": "code",
   "execution_count": 5,
   "id": "1999cd26-23f7-457a-94ed-6fb4633e3a38",
   "metadata": {},
   "outputs": [
    {
     "name": "stdout",
     "output_type": "stream",
     "text": [
      "Programação Orientada a Objetos - POO \n",
      "Valor inteiro: 20 \n",
      "10/3 = 3.000000\n"
     ]
    },
    {
     "data": {
      "text/plain": [
       "java.io.PrintStream@117555e6"
      ]
     },
     "execution_count": 5,
     "metadata": {},
     "output_type": "execute_result"
    }
   ],
   "source": [
    "// exibe mensagem \"Programação Orientada a Objetos - POO\" e quebra linha \n",
    "System.out.printf(\"Programação Orientada a Objetos - POO %n\");\n",
    "// exibe mensagem, valor inteiro e quebra linha \n",
    "System.out.printf(\"Valor inteiro: %d %n\", 20); \n",
    "// exibe mensagem, dois valores inteiros, um valor real e quebra linha \n",
    "int x = 10, y = 3; \n",
    "System.out.printf(\"%d/%d = %f%n\", x, y, (float)(x/y));"
   ]
  },
  {
   "cell_type": "markdown",
   "id": "7e89e15e-fcf9-40d6-8693-530a52807466",
   "metadata": {},
   "source": [
    "## Operadores e expressões"
   ]
  },
  {
   "cell_type": "markdown",
   "id": "37222d6a-5cd7-41f0-8deb-bcf70702b02b",
   "metadata": {},
   "source": [
    "Operador de atribuição simples"
   ]
  },
  {
   "cell_type": "code",
   "execution_count": 7,
   "id": "c0908c39-60b3-4d08-b00b-c30386b3305d",
   "metadata": {},
   "outputs": [
    {
     "name": "stdout",
     "output_type": "stream",
     "text": [
      "O valor da variável result é: false\n",
      "O valor da variável i é: 0\n",
      "O valor da variável y é: 77\n"
     ]
    }
   ],
   "source": [
    "boolean result = false; \n",
    "int i = 0, a = 10, x = 3, b = 47; \n",
    "int y = a * x + b;\n",
    "\n",
    "System.out.println(\"O valor da variável result é: \" + result);\n",
    "System.out.println(\"O valor da variável i é: \" + i);\n",
    "System.out.println(\"O valor da variável y é: \" + y);"
   ]
  },
  {
   "cell_type": "markdown",
   "id": "1be7fd53-a429-4f15-aac7-9102ba934c5f",
   "metadata": {},
   "source": [
    "Operadores aritméticos"
   ]
  },
  {
   "cell_type": "code",
   "execution_count": 8,
   "id": "7f44318f-90ad-482c-ac11-36ad341fcd3d",
   "metadata": {},
   "outputs": [
    {
     "name": "stdout",
     "output_type": "stream",
     "text": [
      "Valores: a = 5, b = 2\n",
      " -b = -2\n",
      "a + b = 7\n",
      "a - b = 3\n",
      "a * b = 10\n",
      "a / b = 2\n",
      "(float) a / b = 2.5\n",
      "a % b = 1\n",
      "a++ = 5\n",
      "  b = 2\n",
      "Valores: a = 6, b = 2\n"
     ]
    }
   ],
   "source": [
    "int a = 5, b = 2; // declara e inicia variáveis\n",
    "System.out.println(\"Valores: a = \" + a + \", b = \" + b); \n",
    "System.out.println(\" -b = \" + (-b)); // operações aritméticas\n",
    "System.out.println(\"a + b = \" + (a + b)); \n",
    "System.out.println(\"a - b = \" + (a - b));\n",
    "System.out.println(\"a * b = \" + (a * b));\n",
    "System.out.println(\"a / b = \" + (a / b));\n",
    "System.out.println(\"(float) a / b = \" + ((float)a / b));\n",
    "System.out.println(\"a % b = \" + (a % b));\n",
    "System.out.println(\"a++ = \" + (a++));\n",
    "System.out.println(\"  b = \" + ( b));\n",
    "System.out.println(\"Valores: a = \" + a + \", b = \" + b);"
   ]
  },
  {
   "cell_type": "markdown",
   "id": "ac19c2fe-21b2-4094-8d5a-58132e99bedb",
   "metadata": {},
   "source": [
    "Operadores relacionais"
   ]
  },
  {
   "cell_type": "code",
   "execution_count": 9,
   "id": "ca75b01b-9617-4a18-ad77-668f8cc5330e",
   "metadata": {},
   "outputs": [
    {
     "name": "stdout",
     "output_type": "stream",
     "text": [
      "Valores: a = 15, b = 12\n",
      "a == b -> false\n",
      "a != b -> true\n",
      "a < b -> false\n",
      "a > b -> true\n",
      "a <= b -> false\n",
      "a >= b -> true\n"
     ]
    }
   ],
   "source": [
    "// declara e inicia variáveis\n",
    "int a = 15, b = 12; \n",
    "System.out.println(\"Valores: a = \" + a + \", b = \" + b); \n",
    "System.out.println(\"a == b -> \" + (a == b)); \t\n",
    "// operações relacionais\n",
    "System.out.println(\"a != b -> \" + (a != b));\n",
    "System.out.println(\"a < b -> \" + (a < b));\n",
    "System.out.println(\"a > b -> \" + (a > b));\n",
    "System.out.println(\"a <= b -> \" + (a <= b));\n",
    "System.out.println(\"a >= b -> \" + (a >= b));"
   ]
  },
  {
   "cell_type": "markdown",
   "id": "c32fd2d8-e646-42a1-99be-384bb708456e",
   "metadata": {},
   "source": [
    "Operadores lógicos"
   ]
  },
  {
   "cell_type": "code",
   "execution_count": 10,
   "id": "f33f74e0-bc36-4f61-a092-0efea6c30b96",
   "metadata": {},
   "outputs": [
    {
     "name": "stdout",
     "output_type": "stream",
     "text": [
      "Valores: k = 1.5, m = -1.9\n",
      "(k > 0) && (m < 0) -> true\n",
      "(k == m) || (m > 0) -> false\n",
      "!(k == m) || (m > 0) -> true\n"
     ]
    }
   ],
   "source": [
    "double k = 1.5, m = -1.9; \n",
    "\n",
    "//Exibe os valores das variáveis k e m\n",
    "System.out.println(\"Valores: k = \" + k + \", m = \" + m); \n",
    "//Exibe a operação lógica &&\n",
    "System.out.println(\"(k > 0) && (m < 0) -> \" + ((k > 0) && (m < 0))); \n",
    "//Exibe a operação lógica ||\n",
    "System.out.println(\"(k == m) || (m > 0) -> \" + ((k == m) || (m > 0))); \n",
    "//Exibe a operação lógica !        \n",
    "System.out.println(\"!(k == m) || (m > 0) -> \" + !((k == m) || (m > 0))); "
   ]
  },
  {
   "cell_type": "markdown",
   "id": "82bfc2fb-ca1d-4fd3-bc1d-bcd06d74433f",
   "metadata": {},
   "source": [
    "Operadores de atribuição composta"
   ]
  },
  {
   "cell_type": "code",
   "execution_count": 11,
   "id": "7782131b-c7a6-4aa1-bbad-87eea1ff6b02",
   "metadata": {},
   "outputs": [
    {
     "name": "stdout",
     "output_type": "stream",
     "text": [
      "x = 8\n",
      "x = 6\n",
      "x = 24\n",
      "x = 8\n",
      "x = 0\n"
     ]
    }
   ],
   "source": [
    "//Declaração e inicialização da variável x\n",
    "int x = 5; \n",
    "        \n",
    "//Operador de atribuição composta\n",
    "x += 3; // x agora é 8\n",
    "System.out.println(\"x = \" + x); //Exibe o valor atual da variável x \n",
    "//Operador de atribuição composta\n",
    "x -= 2; // x agora é 6\n",
    "System.out.println(\"x = \" + x); //Exibe o valor atual da variável x \n",
    "//Operador de atribuição composta\n",
    "x *= 4; // x agora é 24\n",
    "System.out.println(\"x = \" + x); //Exibe o valor atual da variável x \n",
    "//Operador de atribuição composta\n",
    "x /= 3; // x agora é 8\n",
    "System.out.println(\"x = \" + x); //Exibe o valor atual da variável x \n",
    "//Operador de atribuição composta\n",
    "x %= 2; // x agora é 0\n",
    "System.out.println(\"x = \" + x); ////Exibe o valor atual da variável x "
   ]
  },
  {
   "cell_type": "markdown",
   "id": "345f1846-bd00-484a-8d84-1a39938ec9a7",
   "metadata": {},
   "source": [
    "Operador ternário"
   ]
  },
  {
   "cell_type": "code",
   "execution_count": 12,
   "id": "ba4877e3-108a-4ac7-8c2f-04c086b799f3",
   "metadata": {},
   "outputs": [
    {
     "name": "stdout",
     "output_type": "stream",
     "text": [
      "Maior de idade\n"
     ]
    }
   ],
   "source": [
    "//Declaração inicialização da variável idade\n",
    "int idade = 18;  \n",
    "        \n",
    "// Uso do operador ternário para determinar se a pessoa é maior de idade\n",
    "String status = (idade >= 18) ? \"Maior de idade\" : \"Menor de idade\";\n",
    " \n",
    "// Exibe o resultado da expressão        \n",
    "System.out.println(status); "
   ]
  },
  {
   "cell_type": "markdown",
   "id": "e6f78188-457d-4c4c-af3f-65320eaf5857",
   "metadata": {},
   "source": [
    "## Estruturas de controle"
   ]
  },
  {
   "cell_type": "markdown",
   "id": "0b12d4fc-f397-42fd-9cb3-7a8e502dbe45",
   "metadata": {},
   "source": [
    "Estruturas de repetição simples"
   ]
  },
  {
   "cell_type": "markdown",
   "id": "575dd1ae-0e1f-4312-89a4-78fa70ced89e",
   "metadata": {},
   "source": [
    "Diretiva `for`"
   ]
  },
  {
   "cell_type": "code",
   "execution_count": 13,
   "id": "3ff72be5-feb7-4a6f-b755-7da7751a456b",
   "metadata": {},
   "outputs": [
    {
     "name": "stdout",
     "output_type": "stream",
     "text": [
      "0\n",
      "1\n",
      "2\n",
      "3\n",
      "4\n",
      "5\n",
      "6\n",
      "7\n",
      "8\n",
      "9\n"
     ]
    }
   ],
   "source": [
    "//Declaração e inicialização de variáveis\n",
    "int j; \n",
    "// efetua contagem de 0 a 9\n",
    "for (j=0; j<10; j++) {\n",
    "System.out.println(j);\n",
    "}"
   ]
  },
  {
   "cell_type": "markdown",
   "id": "2f2b2b40-bfab-4201-926e-560526e3a4cc",
   "metadata": {},
   "source": [
    "Diretiva `for` avançada"
   ]
  },
  {
   "cell_type": "code",
   "execution_count": 14,
   "id": "1219bd14-bfe6-4039-a935-c7fd81d45cc8",
   "metadata": {},
   "outputs": [
    {
     "name": "stdout",
     "output_type": "stream",
     "text": [
      "For Comum    [ 1.1964 6.1995 6.1935 7.1931 12.1968 ] Fim\n",
      "For Avancado [ 1.1964 6.1995 6.1935 7.1931 12.1968 ] Fim\n"
     ]
    }
   ],
   "source": [
    "//Declaração e inicialização do arranjo\n",
    "double arranjo[] = { 1.1964, 6.1995, 6.1935, 7.1931, 12.1968 }; \n",
    "System.out.print(\"For Comum    [ \");\n",
    "// Declaração e inicialização da variável\n",
    "int tamanho = arranjo.length; \n",
    "//Início for comum\n",
    "for (int i=0; i<tamanho; i++) System.out.print(arranjo[i] + \" \"); \n",
    "System.out.println(\"] Fim\"); \n",
    "//Fim for comum\n",
    "System.out.print(\"For Avancado [ \"); \n",
    "//Início for avançado\n",
    "for (double elemento: arranjo) System.out.print(elemento + \" \"); \n",
    "//Fim for avançado\n",
    "System.out.println(\"] Fim\"); "
   ]
  },
  {
   "cell_type": "markdown",
   "id": "3fafca83-f386-4b75-98c3-7a8a784253d5",
   "metadata": {},
   "source": [
    "Estruturas de repetição condicionais"
   ]
  },
  {
   "cell_type": "markdown",
   "id": "35e65b05-5b70-4c98-9eb5-182e6c555604",
   "metadata": {},
   "source": [
    "Diretiva `while`"
   ]
  },
  {
   "cell_type": "code",
   "execution_count": 15,
   "id": "4dbfd4d0-54ef-4244-b080-acb51d8b69e6",
   "metadata": {},
   "outputs": [
    {
     "name": "stdout",
     "output_type": "stream",
     "text": [
      "Informe um valor inteiro inicial? "
     ]
    },
    {
     "name": "stdin",
     "output_type": "stream",
     "text": [
      " 5\n"
     ]
    },
    {
     "name": "stdout",
     "output_type": "stream",
     "text": [
      "5\n",
      "4\n",
      "3\n",
      "2\n",
      "1\n",
      "0\n"
     ]
    }
   ],
   "source": [
    "//Cria uma nova instância da classe Scanner\n",
    "Scanner s = new Scanner(System.in); \n",
    "//Exibe a mensagem \"Valor inteiro inicial? \" na saída padrão (console).\n",
    "System.out.print(\"Informe um valor inteiro inicial? \"); \n",
    "//Lê um número inteiro digitado pelo usuário usando o método nextInt() da classe Scanner e atribui o valor a variável j.\t\t\n",
    "int j = s.nextInt(); \n",
    "//Inicia um laço de repetição \"while\", que continuará executando enquanto o valor de j for maior ou igual a zero.\n",
    "while (j >= 0) { \n",
    "//Exibe o valor atual de j na saída padrão, seguido de uma quebra de linha.\n",
    "System.out.println(j); \n",
    "//Decrementa o valor de j em 1 a cada iteração do laço.\n",
    "j--; \n"
   ]
  },
  {
   "cell_type": "markdown",
   "id": "6c2e5af4-eef8-4709-bc6f-90d3839695f9",
   "metadata": {},
   "source": [
    "Diretiva `do while`"
   ]
  },
  {
   "cell_type": "code",
   "execution_count": 16,
   "id": "37effc66-52c7-4581-b549-bebb507db6e3",
   "metadata": {},
   "outputs": [
    {
     "name": "stdout",
     "output_type": "stream",
     "text": [
      "Informe o 1º valor inteiro: "
     ]
    },
    {
     "name": "stdin",
     "output_type": "stream",
     "text": [
      " 5\n"
     ]
    },
    {
     "name": "stdout",
     "output_type": "stream",
     "text": [
      "Informe o segundo valor inteiro(este valor deve ser maior que o 1º valor): "
     ]
    },
    {
     "name": "stdin",
     "output_type": "stream",
     "text": [
      " 7\n"
     ]
    },
    {
     "name": "stdout",
     "output_type": "stream",
     "text": [
      "5 < 7\n",
      "6 == 6 Condicao Final!\n"
     ]
    }
   ],
   "source": [
    "//Cria uma nova instância da classe Scanner\n",
    "Scanner s = new Scanner(System.in); \n",
    "//Exibe a mensagem ao usuário\t\t\n",
    "System.out.print(\"Informe o 1º valor inteiro: \"); \n",
    "//Lê um número inteiro digitado pelo usuário usando o método nextInt() da classe Scanner\n",
    "int min = s.nextInt(); \n",
    "//Exibe a mensagem ao usuário\n",
    "System.out.print(\"Informe o segundo valor inteiro(este valor deve ser maior que o 1º valor): \"); \n",
    "//Lê um número inteiro digitado pelo usuário usando o método nextInt() da classe Scanner\n",
    "int max = s.nextInt(); \n",
    " //Inicia um laço de repetição \"do-while\"\n",
    "do {\n",
    "//Imprime uma string formatada contendo os valores de min e max\n",
    "System.out.println(min + \" < \" + max);\n",
    "//Incrementa o valor de min em 1 e decrementa o valor de max em 1\n",
    "min++; max--; \n",
    "//Verifica a condição de continuação do laço\n",
    "} while (min < max); \n",
    "//Exibe uma string formatada contendo os valores finais de min e max\n",
    "System.out.println(min + \" == \" + max + \" Condicao Final!\");"
   ]
  },
  {
   "cell_type": "markdown",
   "id": "b804420a-c8e5-47b7-ae52-2fefb2ea066f",
   "metadata": {},
   "source": [
    "## Estruturas de desvio de fluxo"
   ]
  },
  {
   "cell_type": "markdown",
   "id": "f0607bac-7cb0-4cf8-ad96-36a468609946",
   "metadata": {},
   "source": [
    "Diretiva `if` "
   ]
  },
  {
   "cell_type": "code",
   "execution_count": null,
   "id": "bc7da075-63df-48c2-8ce7-3bfc5083111c",
   "metadata": {},
   "outputs": [],
   "source": [
    "import javax.swing.JOptionPane;\n",
    "\n",
    "//Cria um array de objetos chamado op contendo os valores “Masculino” e “Feminino”.\n",
    "Object[] op = {\"Masculino\", \"Feminino\"}; \n",
    "String resp = (String)JOptionPane.showInputDialog(null, \t\n",
    "\"Selecione o sexo:\\n\", \"Pesquisa\", JOptionPane.PLAIN_MESSAGE, null, op, \"Feminino\");\n",
    "//Verifica se foi pressionado o botão Cancel da caixa de diálogo\n",
    "if (resp == null){ \n",
    "JOptionPane.showMessageDialog(null, \"Você pressionou Cancel\");\n",
    "}\n",
    "//Verifica se o conteúdo da variável resp é igual a “Masculino” e mostra a mensagem de “Você é homem”.\n",
    "if (resp == \"Masculino\"){\n",
    "JOptionPane.showMessageDialog(null, \"Você é do sexo masculino\");\n",
    "}\t\n",
    "//Verifica se o conteúdo da variável resp é igual a “Feminino” e mostra a mensagem de “Você é mulher”.\n",
    "if (resp == \"Feminino\"){\n",
    "JOptionPane.showMessageDialog(null, \"Você é do sexo feminino\");\n",
    "}\t\n",
    "//Encerra a aplicação.\n",
    "System.exit(0);"
   ]
  },
  {
   "cell_type": "markdown",
   "id": "91c7b1ed-5378-4c25-8498-cbe7afaaf5b5",
   "metadata": {},
   "source": [
    "Diretiva `if else` "
   ]
  },
  {
   "cell_type": "code",
   "execution_count": null,
   "id": "11051f91-aeca-4153-9d09-e2851fc8ce4a",
   "metadata": {},
   "outputs": [],
   "source": [
    "import javax.swing.JOptionPane;\n",
    "\n",
    "String aux = JOptionPane.showInputDialog(\"Forneça o número do mês\");\n",
    "//Verifica se o usuário pressionou o botão Cancel da caixa de diálogo\n",
    "if (aux != null){\n",
    "//O bloco try catch (entre as linhas 18 e 27) é o responsável por verificar se o usuário digitou um\n",
    "//valor numérico, uma vez que valores indevidos provocam erros de conversão.\n",
    "try {\n",
    "int mes = Integer.parseInt(aux);\n",
    "//instrução if responsável por verificar se o número referente ao mês, digitado\n",
    "//pelo usuário, está compreendido entre os valores 1 e 12.\n",
    "if (mes >= 1 && mes <= 12) {\n",
    "JOptionPane.showMessageDialog(null, \"Número do mês válido!\\n\" + mes);\n",
    "} else {\n",
    "JOptionPane.showMessageDialog(null, \"Número do mês inválido!\\n\" + mes);\n",
    "}\n",
    "} catch (NumberFormatException erro) {\n",
    "JOptionPane.showMessageDialog(null, \"Digite apenas valores inteiros\" + erro);\n",
    "}\n",
    "} else {\n",
    "JOptionPane.showMessageDialog(null, \"Operação Cancelada.\");\n",
    "}\n",
    "//Encerra a aplicação.\n",
    "System.exit(0);"
   ]
  },
  {
   "cell_type": "markdown",
   "id": "66dfffde-8c09-463f-9cb5-bee50d63a1fc",
   "metadata": {},
   "source": [
    "Diretiva `if else` aninhado"
   ]
  },
  {
   "cell_type": "code",
   "execution_count": null,
   "id": "20b7627f-d1fb-408f-8c0a-ab7e3dc6a465",
   "metadata": {},
   "outputs": [],
   "source": [
    "import javax.swing.JOptionPane;\n",
    "\n",
    "String aux = JOptionPane.showInputDialog(\"Forneça o número do mês\");\n",
    "//Verifica se o usuário pressionou o botão Cancel da caixa de diálogo\n",
    "if (aux != null) {\n",
    "try {\n",
    "int mes = Integer.parseInt(aux);\n",
    "// se a condição mes == 1 for verdadeira, \n",
    "//todas as condições abaixo são desprezadas \n",
    "//e a execução do programa salta para a linha 47. \n",
    "if (mes == 1) {\n",
    "aux = \"Janeiro\";\n",
    "} else if (mes == 2) {\n",
    "aux = \"Fevereiro\";\n",
    "} else if (mes == 3) {\n",
    "aux = \"Março\";\n",
    "} else if (mes == 4) {\n",
    "aux = \"Abril\";\n",
    "} else if (mes == 5) {\n",
    "aux = \"Maio\";\n",
    "} else if (mes == 6) {\n",
    "aux = \"Junho\";\n",
    "} else if (mes == 7) {\n",
    "aux = \"Julho\";\n",
    "} else if (mes == 8) {\n",
    "aux = \"Agosto\";\n",
    "} else if (mes == 9) {\n",
    "aux = \"Setembro\";\n",
    "} else if (mes == 10) {\n",
    "aux = \"Outubro\";\n",
    "} else if (mes == 11) {\n",
    "aux = \"Novembro\";\n",
    "} else if (mes == 12) {\n",
    "aux = \"Dezembro\";\n",
    "} else {\n",
    "aux = \"Mês Desconhecido!\";\n",
    "}\n",
    "JOptionPane.showMessageDialog(null, aux);\n",
    "} catch (NumberFormatException erro) {\n",
    "JOptionPane.showMessageDialog(null, \"Digite apenas valores inteiros \" + erro);\n",
    "}\n",
    "}\n",
    "//Encerra a aplicação.\n",
    "System.exit(0);\n"
   ]
  },
  {
   "cell_type": "markdown",
   "id": "f4874caf-dcad-47c5-96b0-d8b4ec0da097",
   "metadata": {},
   "source": [
    "Diretiva `if` resumido"
   ]
  },
  {
   "cell_type": "code",
   "execution_count": 2,
   "id": "ee4e5efc-eb5c-4e6b-a3bb-c6f3fd7627ee",
   "metadata": {},
   "outputs": [
    {
     "name": "stdout",
     "output_type": "stream",
     "text": [
      "Usando um if resumido o maior valor é: 10\n"
     ]
    }
   ],
   "source": [
    "//Declara e inicializa o valor nas variáveis c e d. \n",
    "int c = 10, d = 8;\n",
    "//O operador ? faz o papel do if\n",
    "//Da esquerda para a direita podemos interpretar a sintaxe da forma seguinte:\n",
    "//(c > d) ? → o conteúdo da variável c é maior do que o conteúdo da variável d?\n",
    "//c : d → caso a pergunta anterior seja verdadeira, retorna o conteúdo da variável c, \n",
    "//caso contrário, o conteúdo da variável d.\n",
    "int maior = (c > d) ? c : d;\n",
    "//Exibe o valor da maior variável\n",
    "System.out.println(\"Usando um if resumido o maior valor é: \" + maior);"
   ]
  }
 ],
 "metadata": {
  "kernelspec": {
   "display_name": "Java",
   "language": "java",
   "name": "java"
  },
  "language_info": {
   "codemirror_mode": "java",
   "file_extension": ".jshell",
   "mimetype": "text/x-java-source",
   "name": "Java",
   "pygments_lexer": "java",
   "version": "19.0.2+7-44"
  }
 },
 "nbformat": 4,
 "nbformat_minor": 5
}
