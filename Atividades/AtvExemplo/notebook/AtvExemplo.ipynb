{
 "cells": [
  {
   "cell_type": "markdown",
   "id": "49627361-19ef-46dd-a6fd-02a82d568136",
   "metadata": {},
   "source": [
    "# Atv Exemplo"
   ]
  },
  {
   "cell_type": "markdown",
   "id": "66632e41-7372-4d10-b6fd-b8b3377e561f",
   "metadata": {},
   "source": [
    "## Declaração de variáveis "
   ]
  },
  {
   "cell_type": "code",
   "execution_count": null,
   "id": "29ddbd27-ca84-4306-8c5e-b8f32c689725",
   "metadata": {},
   "outputs": [],
   "source": []
  },
  {
   "cell_type": "markdown",
   "id": "a6c74683-7c25-4403-b831-cc8030f5f208",
   "metadata": {},
   "source": [
    "Saída de dados"
   ]
  },
  {
   "cell_type": "code",
   "execution_count": null,
   "id": "71e58145-5c6d-4eef-8cc8-f4140378d2e3",
   "metadata": {},
   "outputs": [],
   "source": []
  },
  {
   "cell_type": "markdown",
   "id": "e9790358-b78e-4798-8c33-55a4e8f97d11",
   "metadata": {},
   "source": [
    "## Entrada e saídas básicas "
   ]
  },
  {
   "cell_type": "markdown",
   "id": "bc5b945e-a132-467d-9120-60c2d22d40c4",
   "metadata": {},
   "source": [
    "Entrada não formatada"
   ]
  },
  {
   "cell_type": "code",
   "execution_count": null,
   "id": "6a535c42-43ca-4247-9a26-ddfa3390bae9",
   "metadata": {},
   "outputs": [],
   "source": []
  },
  {
   "cell_type": "markdown",
   "id": "62316748-e744-4567-a937-0bd466f64252",
   "metadata": {},
   "source": [
    "Entrada formatada"
   ]
  },
  {
   "cell_type": "code",
   "execution_count": null,
   "id": "539a27eb-233b-441b-9df0-80a02c9b2fc0",
   "metadata": {},
   "outputs": [],
   "source": []
  },
  {
   "cell_type": "markdown",
   "id": "3a6857ef-fb04-48f5-a9d3-e0fc43d500a3",
   "metadata": {},
   "source": [
    "Saída formatada"
   ]
  },
  {
   "cell_type": "code",
   "execution_count": null,
   "id": "1999cd26-23f7-457a-94ed-6fb4633e3a38",
   "metadata": {},
   "outputs": [],
   "source": []
  },
  {
   "cell_type": "markdown",
   "id": "7e89e15e-fcf9-40d6-8693-530a52807466",
   "metadata": {},
   "source": [
    "## Operadores e expressões"
   ]
  },
  {
   "cell_type": "markdown",
   "id": "37222d6a-5cd7-41f0-8deb-bcf70702b02b",
   "metadata": {},
   "source": [
    "Operador de atribuição simples"
   ]
  },
  {
   "cell_type": "code",
   "execution_count": null,
   "id": "c0908c39-60b3-4d08-b00b-c30386b3305d",
   "metadata": {},
   "outputs": [],
   "source": []
  },
  {
   "cell_type": "markdown",
   "id": "1be7fd53-a429-4f15-aac7-9102ba934c5f",
   "metadata": {},
   "source": [
    "Operadores aritméticos"
   ]
  },
  {
   "cell_type": "code",
   "execution_count": null,
   "id": "7f44318f-90ad-482c-ac11-36ad341fcd3d",
   "metadata": {},
   "outputs": [],
   "source": []
  },
  {
   "cell_type": "markdown",
   "id": "ac19c2fe-21b2-4094-8d5a-58132e99bedb",
   "metadata": {},
   "source": [
    "Operadores relacionais"
   ]
  },
  {
   "cell_type": "code",
   "execution_count": null,
   "id": "ca75b01b-9617-4a18-ad77-668f8cc5330e",
   "metadata": {},
   "outputs": [],
   "source": []
  },
  {
   "cell_type": "markdown",
   "id": "c32fd2d8-e646-42a1-99be-384bb708456e",
   "metadata": {},
   "source": [
    "Operadores lógicos"
   ]
  },
  {
   "cell_type": "code",
   "execution_count": null,
   "id": "f33f74e0-bc36-4f61-a092-0efea6c30b96",
   "metadata": {},
   "outputs": [],
   "source": []
  },
  {
   "cell_type": "markdown",
   "id": "82bfc2fb-ca1d-4fd3-bc1d-bcd06d74433f",
   "metadata": {},
   "source": [
    "Operadores de atribuição composta"
   ]
  },
  {
   "cell_type": "code",
   "execution_count": null,
   "id": "7782131b-c7a6-4aa1-bbad-87eea1ff6b02",
   "metadata": {},
   "outputs": [],
   "source": []
  },
  {
   "cell_type": "markdown",
   "id": "345f1846-bd00-484a-8d84-1a39938ec9a7",
   "metadata": {},
   "source": [
    "Operador ternário"
   ]
  },
  {
   "cell_type": "code",
   "execution_count": null,
   "id": "ba4877e3-108a-4ac7-8c2f-04c086b799f3",
   "metadata": {},
   "outputs": [],
   "source": []
  },
  {
   "cell_type": "markdown",
   "id": "e6f78188-457d-4c4c-af3f-65320eaf5857",
   "metadata": {},
   "source": [
    "## Estruturas de controle"
   ]
  },
  {
   "cell_type": "markdown",
   "id": "cd00eb88-a2c8-4514-833e-07999ed0326d",
   "metadata": {},
   "source": [
    "Estruturas de repetição simples"
   ]
  },
  {
   "cell_type": "markdown",
   "id": "575dd1ae-0e1f-4312-89a4-78fa70ced89e",
   "metadata": {},
   "source": [
    "Diretiva `for`"
   ]
  },
  {
   "cell_type": "code",
   "execution_count": null,
   "id": "3ff72be5-feb7-4a6f-b755-7da7751a456b",
   "metadata": {},
   "outputs": [],
   "source": []
  },
  {
   "cell_type": "markdown",
   "id": "2f2b2b40-bfab-4201-926e-560526e3a4cc",
   "metadata": {},
   "source": [
    "Diretiva `for` avançada"
   ]
  },
  {
   "cell_type": "code",
   "execution_count": null,
   "id": "1219bd14-bfe6-4039-a935-c7fd81d45cc8",
   "metadata": {},
   "outputs": [],
   "source": []
  },
  {
   "cell_type": "markdown",
   "id": "3fafca83-f386-4b75-98c3-7a8a784253d5",
   "metadata": {},
   "source": [
    "## Estruturas de repetição condicionais"
   ]
  },
  {
   "cell_type": "markdown",
   "id": "35e65b05-5b70-4c98-9eb5-182e6c555604",
   "metadata": {},
   "source": [
    "Diretiva `while`"
   ]
  },
  {
   "cell_type": "code",
   "execution_count": null,
   "id": "4dbfd4d0-54ef-4244-b080-acb51d8b69e6",
   "metadata": {},
   "outputs": [],
   "source": []
  },
  {
   "cell_type": "markdown",
   "id": "6c2e5af4-eef8-4709-bc6f-90d3839695f9",
   "metadata": {},
   "source": [
    "Diretiva `do while`"
   ]
  },
  {
   "cell_type": "code",
   "execution_count": null,
   "id": "37effc66-52c7-4581-b549-bebb507db6e3",
   "metadata": {},
   "outputs": [],
   "source": []
  },
  {
   "cell_type": "markdown",
   "id": "b804420a-c8e5-47b7-ae52-2fefb2ea066f",
   "metadata": {},
   "source": [
    "## Estruturas de desvio de fluxo"
   ]
  },
  {
   "cell_type": "code",
   "execution_count": null,
   "id": "6c17ba50-d17f-40b5-a4a2-33afbf2e266b",
   "metadata": {},
   "outputs": [],
   "source": []
  },
  {
   "cell_type": "markdown",
   "id": "91c7b1ed-5378-4c25-8498-cbe7afaaf5b5",
   "metadata": {},
   "source": [
    "Diretiva `if else` "
   ]
  },
  {
   "cell_type": "code",
   "execution_count": null,
   "id": "11051f91-aeca-4153-9d09-e2851fc8ce4a",
   "metadata": {},
   "outputs": [],
   "source": []
  },
  {
   "cell_type": "markdown",
   "id": "66dfffde-8c09-463f-9cb5-bee50d63a1fc",
   "metadata": {},
   "source": [
    "Diretiva `if else` aninhado"
   ]
  },
  {
   "cell_type": "code",
   "execution_count": null,
   "id": "20b7627f-d1fb-408f-8c0a-ab7e3dc6a465",
   "metadata": {},
   "outputs": [],
   "source": [
    "\n"
   ]
  },
  {
   "cell_type": "markdown",
   "id": "f4874caf-dcad-47c5-96b0-d8b4ec0da097",
   "metadata": {},
   "source": [
    "Diretiva `if` resumido"
   ]
  },
  {
   "cell_type": "code",
   "execution_count": null,
   "id": "ee4e5efc-eb5c-4e6b-a3bb-c6f3fd7627ee",
   "metadata": {},
   "outputs": [],
   "source": []
  }
 ],
 "metadata": {
  "kernelspec": {
   "display_name": "Java",
   "language": "java",
   "name": "java"
  },
  "language_info": {
   "codemirror_mode": "java",
   "file_extension": ".jshell",
   "mimetype": "text/x-java-source",
   "name": "Java",
   "pygments_lexer": "java",
   "version": "19.0.2+7-44"
  }
 },
 "nbformat": 4,
 "nbformat_minor": 5
}
