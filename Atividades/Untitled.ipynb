{
 "cells": [
  {
   "cell_type": "code",
   "execution_count": 1,
   "id": "8f90079b-f97e-42c7-9a3a-075e375ae06a",
   "metadata": {},
   "outputs": [
    {
     "name": "stdout",
     "output_type": "stream",
     "text": [
      "Digite um numero para somar ou 0 se quiser visualizar a soma dos ja digitados: "
     ]
    },
    {
     "name": "stdin",
     "output_type": "stream",
     "text": [
      " 4\n"
     ]
    },
    {
     "name": "stdout",
     "output_type": "stream",
     "text": [
      "Digite um numero para somar ou 0 se quiser visualizar a soma dos ja digitados: "
     ]
    },
    {
     "name": "stdin",
     "output_type": "stream",
     "text": [
      " 6\n"
     ]
    },
    {
     "name": "stdout",
     "output_type": "stream",
     "text": [
      "Digite um numero para somar ou 0 se quiser visualizar a soma dos ja digitados: "
     ]
    },
    {
     "name": "stdin",
     "output_type": "stream",
     "text": [
      " 0\n"
     ]
    },
    {
     "name": "stdout",
     "output_type": "stream",
     "text": [
      "a soma é 10.000000"
     ]
    }
   ],
   "source": [
    "import java.util.Scanner;\n",
    "\n",
    "double entrada = -1, soma = 0;\n",
    "Scanner scan = new Scanner(System.in);\n",
    "do {\n",
    "    try {\n",
    "        System.out.print(\"Digite um numero para somar ou 0 se quiser visualizar a soma dos ja digitados: \");\n",
    "        entrada = scan.nextDouble();\n",
    "        soma += entrada;\n",
    "    } catch (Exception e) {\n",
    "        scan.nextLine();\n",
    "    }\n",
    "} while (entrada != 0);\n",
    "System.out.printf(\"a soma é %f\", soma);\n",
    "scan.close();"
   ]
  },
  {
   "cell_type": "code",
   "execution_count": null,
   "id": "bcd16f79-3d1d-4ea1-9c5f-ed1d6c9b8ddb",
   "metadata": {},
   "outputs": [],
   "source": []
  }
 ],
 "metadata": {
  "kernelspec": {
   "display_name": "Java",
   "language": "java",
   "name": "java"
  },
  "language_info": {
   "codemirror_mode": "java",
   "file_extension": ".jshell",
   "mimetype": "text/x-java-source",
   "name": "Java",
   "pygments_lexer": "java",
   "version": "19.0.2+7-44"
  }
 },
 "nbformat": 4,
 "nbformat_minor": 5
}
