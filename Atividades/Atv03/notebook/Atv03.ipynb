{
 "cells": [
  {
   "cell_type": "markdown",
   "id": "1bd8a8e1-7fcf-4f34-bdee-da812a345a8d",
   "metadata": {},
   "source": [
    "# Atv03"
   ]
  },
  {
   "cell_type": "markdown",
   "id": "9e2c2760-d7b1-44d0-9cf7-a89111444f70",
   "metadata": {},
   "source": [
    "Calcule e exiba a média solicitada na Atv03"
   ]
  },
  {
   "cell_type": "code",
   "execution_count": null,
   "id": "6b094873-e4e0-45ea-baf7-f842b8359c06",
   "metadata": {},
   "outputs": [],
   "source": []
  }
 ],
 "metadata": {
  "kernelspec": {
   "display_name": "Java",
   "language": "java",
   "name": "java"
  },
  "language_info": {
   "codemirror_mode": "java",
   "file_extension": ".jshell",
   "mimetype": "text/x-java-source",
   "name": "Java",
   "pygments_lexer": "java",
   "version": "19.0.2+7-44"
  }
 },
 "nbformat": 4,
 "nbformat_minor": 5
}
